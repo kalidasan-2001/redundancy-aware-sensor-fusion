{
  "nbformat": 4,
  "nbformat_minor": 0,
  "metadata": {
    "colab": {
      "provenance": []
    },
    "kernelspec": {
      "name": "python3",
      "display_name": "Python 3"
    },
    "language_info": {
      "name": "python"
    }
  },
  "cells": [
    {
      "cell_type": "code",
      "execution_count": null,
      "metadata": {
        "id": "gcNpQA36coEx"
      },
      "outputs": [],
      "source": []
    },
    {
      "cell_type": "markdown",
      "source": [
        "# 🟢 Redundancy-Aware Sensor Fusion with Drift Detection (Toy Demo)\n",
        "\n",
        "## 📌 What it does\n",
        "- We simulate three sensors measuring the same signal (like room temperature).\n",
        "- After some time, one sensor starts drifting (slowly giving wrong values).\n",
        "- We show how fusion (combining multiple sensors) makes the system more robust.\n",
        "- We also show how to detect the faulty sensor using residuals and agreement checks.\n",
        "\n",
        "## ⚙️ How it works\n",
        "- **True signal**: a smooth sine wave representing the real value.\n",
        "- **Sensors**: each = true signal + small random noise.\n",
        "- **Drift**: one sensor gets a slow upward error after a chosen time step.\n",
        "- **Fusion**:\n",
        "  - *Mean fusion* → average of the 3 sensors.\n",
        "  - *Weighted fusion* → sensors that disagree with the others get lower weight.\n",
        "- **Drift detection**:\n",
        "  - *Residuals* = difference between each sensor and fused value → large residuals mean drift.\n",
        "  - *Agreement score* = how much each sensor matches the others → a drifting sensor’s score drops.\n",
        "\n",
        "## 📊 What we expect in the results\n",
        "- At first, all sensors agree, and both mean and weighted fusion are accurate.\n",
        "- Once drift starts, the faulty sensor pulls the mean upwards.\n",
        "- Weighted fusion stays closer to the truth because it down-weights the drifter.\n",
        "- Drift detection flags the faulty sensor using residual z-scores and agreement.\n",
        "\n",
        "## 🌟 Why it matters\n",
        "- Redundancy is not wasteful — it makes systems more robust.\n",
        "- We can use redundancy to detect faulty or drifting sensors.\n",
        "- This demo is inspired by redundancy-aware systems research.\n"
      ],
      "metadata": {
        "id": "aTyivA-QiIeu"
      }
    },
    {
      "cell_type": "markdown",
      "source": [],
      "metadata": {
        "id": "MbX4voOPh2E_"
      }
    }
  ]
}